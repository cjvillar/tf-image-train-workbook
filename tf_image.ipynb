{
 "cells": [
  {
   "cell_type": "code",
   "execution_count": 26,
   "metadata": {},
   "outputs": [],
   "source": [
    "import tensorflow as tf\n",
    "from PIL import Image\n",
    "import numpy as np\n",
    "import os"
   ]
  },
  {
   "cell_type": "code",
   "execution_count": 27,
   "metadata": {},
   "outputs": [
    {
     "name": "stdout",
     "output_type": "stream",
     "text": [
      "./image_scrape_code/screenshots/person-screenshot-2024-01-27T23-23-03.548Z.png\n",
      "./image_scrape_code/screenshots/person-screenshot-2024-01-27T23-21-03.546Z.png\n",
      "./image_scrape_code/screenshots/person-screenshot-2024-01-27T23-22-03.547Z.png\n",
      "./image_scrape_code/screenshots/person-screenshot-2024-01-27T23-25-03.552Z.png\n",
      "./image_scrape_code/screenshots/screenshot-2024-01-27T23-29-03.557Z.png\n",
      "./image_scrape_code/screenshots/person-screenshot-2024-01-27T23-31-03.559Z.png\n"
     ]
    }
   ],
   "source": [
    "# set the path to your dataset\n",
    "dataset_dir = \"./image_scrape_code/screenshots\"\n",
    "\n",
    "# list all image files in the dataset directory\n",
    "image_files = [\n",
    "    os.path.join(dataset_dir, filename)\n",
    "    for filename in os.listdir(dataset_dir)\n",
    "    if filename.endswith(\".png\")\n",
    "]\n",
    "\n",
    "for f in image_files:\n",
    "    print(f)"
   ]
  },
  {
   "cell_type": "code",
   "execution_count": 28,
   "metadata": {},
   "outputs": [
    {
     "name": "stdout",
     "output_type": "stream",
     "text": [
      "Processed ./image_scrape_code/screenshots/person-screenshot-2024-01-27T23-23-03.548Z.png saved as processed_images/person-screenshot-2024-01-27T23-23-03.548Z.png\n",
      "Processed ./image_scrape_code/screenshots/person-screenshot-2024-01-27T23-21-03.546Z.png saved as processed_images/person-screenshot-2024-01-27T23-21-03.546Z.png\n",
      "Processed ./image_scrape_code/screenshots/person-screenshot-2024-01-27T23-22-03.547Z.png saved as processed_images/person-screenshot-2024-01-27T23-22-03.547Z.png\n",
      "Processed ./image_scrape_code/screenshots/person-screenshot-2024-01-27T23-25-03.552Z.png saved as processed_images/person-screenshot-2024-01-27T23-25-03.552Z.png\n",
      "Processed ./image_scrape_code/screenshots/screenshot-2024-01-27T23-29-03.557Z.png saved as processed_images/screenshot-2024-01-27T23-29-03.557Z.png\n",
      "Processed ./image_scrape_code/screenshots/person-screenshot-2024-01-27T23-31-03.559Z.png saved as processed_images/person-screenshot-2024-01-27T23-31-03.559Z.png\n"
     ]
    }
   ],
   "source": [
    "# resize\n",
    "size = 128, 128\n",
    "\n",
    "# create the dir if it doesn't exist\n",
    "processed_dir = 'processed_images'\n",
    "os.makedirs(processed_dir, exist_ok=True)\n",
    "\n",
    "for i in image_files:\n",
    "    try:\n",
    "        im = Image.open(i)\n",
    "        im.thumbnail(size, Image.Resampling.LANCZOS)\n",
    "        \n",
    "        # filename without the path\n",
    "        filename = os.path.basename(i)\n",
    "        \n",
    "        # create new path for the processed image\n",
    "        processed_path = os.path.join(processed_dir, filename)\n",
    "        \n",
    "        # save \n",
    "        im.save(processed_path, \"PNG\")\n",
    "        \n",
    "        print(f\"Processed {i} saved as {processed_path}\")\n",
    "        \n",
    "    except IOError:\n",
    "        print(f\"Error rescale for {i}\")\n",
    "        "
   ]
  },
  {
   "cell_type": "code",
   "execution_count": 10,
   "metadata": {},
   "outputs": [
    {
     "name": "stdout",
     "output_type": "stream",
     "text": [
      "1\n",
      "1\n",
      "1\n",
      "1\n",
      "1\n",
      "1\n"
     ]
    }
   ],
   "source": [
    "# labels based on file names \n",
    "labels = [1 if \"person\" in filename else 0 for filename in image_files]\n",
    "\n",
    "for l in labels:\n",
    "    print(l)"
   ]
  },
  {
   "cell_type": "code",
   "execution_count": 20,
   "metadata": {},
   "outputs": [],
   "source": [
    "# load and preprocess the images\n",
    "def load_and_preprocess_image(image_path, label):\n",
    "    image = tf.io.read_file(image_path)\n",
    "    image = tf.image.decode_jpeg(image, channels=3)\n",
    "    image = tf.image.resize(image, (224, 224))  # resize to desired dimensions\n",
    "    image = tf.cast(image, tf.float32) / 255.0  # normalize pixel values between 0 and 1\n",
    "    return image, label\n"
   ]
  },
  {
   "cell_type": "code",
   "execution_count": 21,
   "metadata": {},
   "outputs": [
    {
     "name": "stdout",
     "output_type": "stream",
     "text": [
      "<_BatchDataset element_spec=(TensorSpec(shape=(None, 224, 224, 3), dtype=tf.float32, name=None), TensorSpec(shape=(None,), dtype=tf.int32, name=None))>\n"
     ]
    }
   ],
   "source": [
    "# create a TensorFlow dataset from the image files and labels\n",
    "dataset = tf.data.Dataset.from_tensor_slices((image_files, labels))\n",
    "\n",
    "# map the preprocessing function to the dataset\n",
    "dataset = dataset.map(load_and_preprocess_image)\n",
    "\n",
    "# shuffle and batch the dataset\n",
    "dataset = dataset.shuffle(buffer_size=len(image_files))\n",
    "dataset = dataset.batch(batch_size=32)\n",
    "\n",
    "print(dataset)\n"
   ]
  }
 ],
 "metadata": {
  "kernelspec": {
   "display_name": "env",
   "language": "python",
   "name": "python3"
  },
  "language_info": {
   "codemirror_mode": {
    "name": "ipython",
    "version": 3
   },
   "file_extension": ".py",
   "mimetype": "text/x-python",
   "name": "python",
   "nbconvert_exporter": "python",
   "pygments_lexer": "ipython3",
   "version": "3.10.0"
  }
 },
 "nbformat": 4,
 "nbformat_minor": 2
}
